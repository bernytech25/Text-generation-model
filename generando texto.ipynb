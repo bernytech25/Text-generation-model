{
 "cells": [
  {
   "cell_type": "code",
   "execution_count": 1,
   "id": "8638526f",
   "metadata": {},
   "outputs": [
    {
     "name": "stderr",
     "output_type": "stream",
     "text": [
      "c:\\Users\\berna\\AppData\\Local\\Programs\\Python\\Python311\\Lib\\site-packages\\tqdm\\auto.py:21: TqdmWarning: IProgress not found. Please update jupyter and ipywidgets. See https://ipywidgets.readthedocs.io/en/stable/user_install.html\n",
      "  from .autonotebook import tqdm as notebook_tqdm\n"
     ]
    },
    {
     "name": "stdout",
     "output_type": "stream",
     "text": [
      "Cargando tokenizer y modelo 'distilgpt2'...\n"
     ]
    },
    {
     "name": "stderr",
     "output_type": "stream",
     "text": [
      "c:\\Users\\berna\\AppData\\Local\\Programs\\Python\\Python311\\Lib\\site-packages\\huggingface_hub\\file_download.py:143: UserWarning: `huggingface_hub` cache-system uses symlinks by default to efficiently store duplicated files but your machine does not support them in C:\\Users\\berna\\.cache\\huggingface\\hub\\models--distilgpt2. Caching files will still work but in a degraded version that might require more space on your disk. This warning can be disabled by setting the `HF_HUB_DISABLE_SYMLINKS_WARNING` environment variable. For more details, see https://huggingface.co/docs/huggingface_hub/how-to-cache#limitations.\n",
      "To support symlinks on Windows, you either need to activate Developer Mode or to run Python as an administrator. In order to activate developer mode, see this article: https://docs.microsoft.com/en-us/windows/apps/get-started/enable-your-device-for-development\n",
      "  warnings.warn(message)\n",
      "Xet Storage is enabled for this repo, but the 'hf_xet' package is not installed. Falling back to regular HTTP download. For better performance, install the package with: `pip install huggingface_hub[hf_xet]` or `pip install hf_xet`\n",
      "The attention mask is not set and cannot be inferred from input because pad token is same as eos token. As a consequence, you may observe unexpected behavior. Please pass your input's `attention_mask` to obtain reliable results.\n"
     ]
    },
    {
     "name": "stdout",
     "output_type": "stream",
     "text": [
      "Usando dispositivo: cpu\n",
      "\n",
      "Prompt de entrada: 'El clima hoy está'\n",
      "Generando texto...\n",
      "\n",
      "Texto generado:\n",
      "El clima hoy está la ciudad de la l'unción de los cesquías de las cemposadas de líos de cencias.\n",
      "\n",
      "The first time I saw a\n",
      "\n",
      "¡Ejemplo completado!\n"
     ]
    }
   ],
   "source": [
    "import torch\n",
    "from transformers import AutoModelForCausalLM, AutoTokenizer\n",
    "\n",
    "# 1. Elegir un modelo pequeño y cargar el tokenizer y el modelo\n",
    "# Usaremos distilgpt2, que es una versión más pequeña y rápida de GPT-2\n",
    "model_name = \"distilgpt2\"\n",
    "\n",
    "print(f\"Cargando tokenizer y modelo '{model_name}'...\")\n",
    "tokenizer = AutoTokenizer.from_pretrained(model_name)\n",
    "model = AutoModelForCausalLM.from_pretrained(model_name)\n",
    "\n",
    "# Opcional: Mover el modelo a la GPU si está disponible\n",
    "device = torch.device(\"cuda\" if torch.cuda.is_available() else \"cpu\")\n",
    "model.to(device)\n",
    "print(f\"Usando dispositivo: {device}\")\n",
    "\n",
    "# 2. Definir la entrada (el \"prompt\")\n",
    "prompt = \"El clima hoy está\"\n",
    "print(f\"\\nPrompt de entrada: '{prompt}'\")\n",
    "\n",
    "# 3. Tokenizar la entrada\n",
    "# encode() convierte el texto en una lista de IDs (tokens)\n",
    "# return_tensors=\"pt\" asegura que el output sea un tensor de PyTorch\n",
    "input_ids = tokenizer.encode(prompt, return_tensors=\"pt\").to(device)\n",
    "\n",
    "# 4. Generar texto\n",
    "# generate() es el método mágico que usa el modelo para generar tokens\n",
    "# max_length: cuántos tokens máximo queremos en la salida (incluyendo el prompt)\n",
    "# num_return_sequences: cuántas secuencias diferentes queremos generar\n",
    "# no_repeat_ngram_size: evita que se repitan secuencias de N tokens para mayor variedad\n",
    "print(\"Generando texto...\")\n",
    "output_ids = model.generate(\n",
    "    input_ids,\n",
    "    max_length=50, # Generar hasta 50 tokens\n",
    "    num_return_sequences=1, # Generar 1 secuencia\n",
    "    no_repeat_ngram_size=2, # Evitar repetir bigramas\n",
    "    pad_token_id=tokenizer.eos_token_id # Importante para modelos sin pad_token\n",
    ")\n",
    "\n",
    "# 5. Decodificar la salida\n",
    "# decode() convierte los IDs (tokens) de vuelta a texto legible\n",
    "generated_text = tokenizer.decode(output_ids[0], skip_special_tokens=True)\n",
    "\n",
    "# 6. Imprimir el resultado\n",
    "print(\"\\nTexto generado:\")\n",
    "print(generated_text)\n",
    "\n",
    "print(\"\\n¡Ejemplo completado!\")"
   ]
  },
  {
   "cell_type": "code",
   "execution_count": 1,
   "id": "e816444b",
   "metadata": {},
   "outputs": [
    {
     "name": "stderr",
     "output_type": "stream",
     "text": [
      "c:\\Users\\berna\\AppData\\Local\\Programs\\Python\\Python311\\Lib\\site-packages\\tqdm\\auto.py:21: TqdmWarning: IProgress not found. Please update jupyter and ipywidgets. See https://ipywidgets.readthedocs.io/en/stable/user_install.html\n",
      "  from .autonotebook import tqdm as notebook_tqdm\n"
     ]
    },
    {
     "name": "stdout",
     "output_type": "stream",
     "text": [
      "Cargando tokenizer y modelo 'distilgpt2'...\n"
     ]
    },
    {
     "name": "stderr",
     "output_type": "stream",
     "text": [
      "The attention mask is not set and cannot be inferred from input because pad token is same as eos token. As a consequence, you may observe unexpected behavior. Please pass your input's `attention_mask` to obtain reliable results.\n"
     ]
    },
    {
     "name": "stdout",
     "output_type": "stream",
     "text": [
      "Usando dispositivo: cpu\n",
      "\n",
      "Prompt de entrada: 'El clima hoy está seco y humedo'\n",
      "Generando texto...\n",
      "\n",
      "Texto generado:\n",
      "El clima hoy está seco y humedo.\n",
      "\n",
      "The first time I saw the sun, I was in awe. I had never seen the moon before. It was a beautiful day. The sun was shining in the sky. And I knew that it was the first day of my life.\n",
      "\n",
      "¡Ejemplo completado!\n"
     ]
    }
   ],
   "source": [
    "import torch\n",
    "from transformers import AutoModelForCausalLM, AutoTokenizer\n",
    "\n",
    "# 1. Elegir un modelo pequeño y cargar el tokenizer y el modelo\n",
    "# Usaremos distilgpt2, que es una versión más pequeña y rápida de GPT-2\n",
    "model_name = \"distilgpt2\"\n",
    "\n",
    "print(f\"Cargando tokenizer y modelo '{model_name}'...\")\n",
    "tokenizer = AutoTokenizer.from_pretrained(model_name)\n",
    "model = AutoModelForCausalLM.from_pretrained(model_name)\n",
    "\n",
    "# Opcional: Mover el modelo a la GPU si está disponible\n",
    "device = torch.device(\"cuda\" if torch.cuda.is_available() else \"cpu\")\n",
    "model.to(device)\n",
    "print(f\"Usando dispositivo: {device}\")\n",
    "\n",
    "# 2. Definir la entrada (el \"prompt\")\n",
    "prompt = \"El clima hoy está seco y humedo\"\n",
    "print(f\"\\nPrompt de entrada: '{prompt}'\")\n",
    "\n",
    "# 3. Tokenizar la entrada\n",
    "# encode() convierte el texto en una lista de IDs (tokens)\n",
    "# return_tensors=\"pt\" asegura que el output sea un tensor de PyTorch\n",
    "input_ids = tokenizer.encode(prompt, return_tensors=\"pt\").to(device)\n",
    "\n",
    "# 4. Generar texto\n",
    "# generate() es el método mágico que usa el modelo para generar tokens\n",
    "# max_length: cuántos tokens máximo queremos en la salida (incluyendo el prompt)\n",
    "# num_return_sequences: cuántas secuencias diferentes queremos generar\n",
    "# no_repeat_ngram_size: evita que se repitan secuencias de N tokens para mayor variedad\n",
    "print(\"Generando texto...\")\n",
    "output_ids = model.generate(\n",
    "    input_ids,\n",
    "    max_length=80, # Generar hasta 50 tokens\n",
    "    num_return_sequences=1, # Generar 1 secuencia\n",
    "    no_repeat_ngram_size=2, # Evitar repetir bigramas\n",
    "    pad_token_id=tokenizer.eos_token_id # Importante para modelos sin pad_token\n",
    ")\n",
    "\n",
    "# 5. Decodificar la salida\n",
    "# decode() convierte los IDs (tokens) de vuelta a texto legible\n",
    "generated_text = tokenizer.decode(output_ids[0], skip_special_tokens=True)\n",
    "\n",
    "# 6. Imprimir el resultado\n",
    "print(\"\\nTexto generado:\")\n",
    "print(generated_text)\n",
    "\n",
    "print(\"\\n¡Ejemplo completado!\")"
   ]
  }
 ],
 "metadata": {
  "kernelspec": {
   "display_name": "Python 3",
   "language": "python",
   "name": "python3"
  },
  "language_info": {
   "codemirror_mode": {
    "name": "ipython",
    "version": 3
   },
   "file_extension": ".py",
   "mimetype": "text/x-python",
   "name": "python",
   "nbconvert_exporter": "python",
   "pygments_lexer": "ipython3",
   "version": "3.11.2"
  }
 },
 "nbformat": 4,
 "nbformat_minor": 5
}
